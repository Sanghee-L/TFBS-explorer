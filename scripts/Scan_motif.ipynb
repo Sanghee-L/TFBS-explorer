{
 "cells": [
  {
   "cell_type": "code",
   "execution_count": 1,
   "id": "c114f17c",
   "metadata": {},
   "outputs": [
    {
     "name": "stdout",
     "output_type": "stream",
     "text": [
      "Fetched motif for IRF3: MA1418.2\n",
      "Fetched motif for IRF7: MA0772.2\n",
      "Fetched motif for IRF9: MA0653.1\n"
     ]
    },
    {
     "ename": "FileNotFoundError",
     "evalue": "[Errno 2] No such file or directory: 'Promoter_sequences.fasta'",
     "output_type": "error",
     "traceback": [
      "\u001b[0;31m---------------------------------------------------------------------------\u001b[0m",
      "\u001b[0;31mFileNotFoundError\u001b[0m                         Traceback (most recent call last)",
      "Cell \u001b[0;32mIn[1], line 73\u001b[0m\n\u001b[1;32m     70\u001b[0m fasta_file \u001b[38;5;241m=\u001b[39m \u001b[38;5;124m\"\u001b[39m\u001b[38;5;124mPromoter_sequences.fasta\u001b[39m\u001b[38;5;124m\"\u001b[39m \u001b[38;5;66;03m# Sequence data to scan\u001b[39;00m\n\u001b[1;32m     72\u001b[0m motifs_dict \u001b[38;5;241m=\u001b[39m fetch_motifs_from_jaspar(tf_names) \u001b[38;5;66;03m# Store function result in variable\u001b[39;00m\n\u001b[0;32m---> 73\u001b[0m scan_results \u001b[38;5;241m=\u001b[39m \u001b[43mscan_promoters_for_motifs\u001b[49m\u001b[43m(\u001b[49m\u001b[43mfasta_file\u001b[49m\u001b[43m,\u001b[49m\u001b[43m \u001b[49m\u001b[43mmotifs_dict\u001b[49m\u001b[43m,\u001b[49m\u001b[43m \u001b[49m\u001b[43mthreshold\u001b[49m\u001b[38;5;241;43m=\u001b[39;49m\u001b[38;5;241;43m3.0\u001b[39;49m\u001b[43m)\u001b[49m \u001b[38;5;66;03m# Store function result in variable\u001b[39;00m\n\u001b[1;32m     74\u001b[0m write_results_to_csv(scan_results)\n",
      "Cell \u001b[0;32mIn[1], line 29\u001b[0m, in \u001b[0;36mscan_promoters_for_motifs\u001b[0;34m(fasta_file, motif_dict, threshold)\u001b[0m\n\u001b[1;32m     26\u001b[0m results \u001b[38;5;241m=\u001b[39m []\n\u001b[1;32m     28\u001b[0m \u001b[38;5;66;03m# Parse the fasta file which contain promoter sequences\u001b[39;00m\n\u001b[0;32m---> 29\u001b[0m \u001b[38;5;28;01mfor\u001b[39;00m record \u001b[38;5;129;01min\u001b[39;00m \u001b[43mSeqIO\u001b[49m\u001b[38;5;241;43m.\u001b[39;49m\u001b[43mparse\u001b[49m\u001b[43m(\u001b[49m\u001b[43mfasta_file\u001b[49m\u001b[43m,\u001b[49m\u001b[43m \u001b[49m\u001b[38;5;124;43m\"\u001b[39;49m\u001b[38;5;124;43mfasta\u001b[39;49m\u001b[38;5;124;43m\"\u001b[39;49m\u001b[43m)\u001b[49m:\n\u001b[1;32m     30\u001b[0m     gene_info \u001b[38;5;241m=\u001b[39m record\u001b[38;5;241m.\u001b[39mid \u001b[38;5;66;03m# Extract the gene information\u001b[39;00m\n\u001b[1;32m     31\u001b[0m     promoter_seq \u001b[38;5;241m=\u001b[39m \u001b[38;5;28mstr\u001b[39m(record\u001b[38;5;241m.\u001b[39mseq) \u001b[38;5;66;03m# Extract the sequences\u001b[39;00m\n",
      "File \u001b[0;32m~/Library/Python/3.9/lib/python/site-packages/Bio/SeqIO/__init__.py:626\u001b[0m, in \u001b[0;36mparse\u001b[0;34m(handle, format, alphabet)\u001b[0m\n\u001b[1;32m    624\u001b[0m iterator_generator \u001b[38;5;241m=\u001b[39m _FormatToIterator\u001b[38;5;241m.\u001b[39mget(\u001b[38;5;28mformat\u001b[39m)\n\u001b[1;32m    625\u001b[0m \u001b[38;5;28;01mif\u001b[39;00m iterator_generator:\n\u001b[0;32m--> 626\u001b[0m     \u001b[38;5;28;01mreturn\u001b[39;00m \u001b[43miterator_generator\u001b[49m\u001b[43m(\u001b[49m\u001b[43mhandle\u001b[49m\u001b[43m)\u001b[49m\n\u001b[1;32m    627\u001b[0m \u001b[38;5;28;01mif\u001b[39;00m \u001b[38;5;28mformat\u001b[39m \u001b[38;5;129;01min\u001b[39;00m AlignIO\u001b[38;5;241m.\u001b[39m_FormatToIterator:\n\u001b[1;32m    628\u001b[0m     \u001b[38;5;66;03m# Use Bio.AlignIO to read in the alignments\u001b[39;00m\n\u001b[1;32m    629\u001b[0m     \u001b[38;5;28;01mreturn\u001b[39;00m (r \u001b[38;5;28;01mfor\u001b[39;00m alignment \u001b[38;5;129;01min\u001b[39;00m AlignIO\u001b[38;5;241m.\u001b[39mparse(handle, \u001b[38;5;28mformat\u001b[39m) \u001b[38;5;28;01mfor\u001b[39;00m r \u001b[38;5;129;01min\u001b[39;00m alignment)\n",
      "File \u001b[0;32m~/Library/Python/3.9/lib/python/site-packages/Bio/SeqIO/FastaIO.py:196\u001b[0m, in \u001b[0;36mFastaIterator.__init__\u001b[0;34m(self, source, alphabet)\u001b[0m\n\u001b[1;32m    194\u001b[0m \u001b[38;5;28;01mif\u001b[39;00m alphabet \u001b[38;5;129;01mis\u001b[39;00m \u001b[38;5;129;01mnot\u001b[39;00m \u001b[38;5;28;01mNone\u001b[39;00m:\n\u001b[1;32m    195\u001b[0m     \u001b[38;5;28;01mraise\u001b[39;00m \u001b[38;5;167;01mValueError\u001b[39;00m(\u001b[38;5;124m\"\u001b[39m\u001b[38;5;124mThe alphabet argument is no longer supported\u001b[39m\u001b[38;5;124m\"\u001b[39m)\n\u001b[0;32m--> 196\u001b[0m \u001b[38;5;28;43msuper\u001b[39;49m\u001b[43m(\u001b[49m\u001b[43m)\u001b[49m\u001b[38;5;241;43m.\u001b[39;49m\u001b[38;5;21;43m__init__\u001b[39;49m\u001b[43m(\u001b[49m\u001b[43msource\u001b[49m\u001b[43m,\u001b[49m\u001b[43m \u001b[49m\u001b[43mfmt\u001b[49m\u001b[38;5;241;43m=\u001b[39;49m\u001b[38;5;124;43m\"\u001b[39;49m\u001b[38;5;124;43mFasta\u001b[39;49m\u001b[38;5;124;43m\"\u001b[39;49m\u001b[43m)\u001b[49m\n\u001b[1;32m    197\u001b[0m \u001b[38;5;28;01mtry\u001b[39;00m:\n\u001b[1;32m    198\u001b[0m     line \u001b[38;5;241m=\u001b[39m \u001b[38;5;28mnext\u001b[39m(\u001b[38;5;28mself\u001b[39m\u001b[38;5;241m.\u001b[39mstream)\n",
      "File \u001b[0;32m~/Library/Python/3.9/lib/python/site-packages/Bio/SeqIO/Interfaces.py:81\u001b[0m, in \u001b[0;36mSequenceIterator.__init__\u001b[0;34m(self, source, alphabet, fmt)\u001b[0m\n\u001b[1;32m     79\u001b[0m \u001b[38;5;28;01mif\u001b[39;00m \u001b[38;5;28misinstance\u001b[39m(source, _PathLikeTypes):\n\u001b[1;32m     80\u001b[0m     mode \u001b[38;5;241m=\u001b[39m modes[\u001b[38;5;241m0\u001b[39m]\n\u001b[0;32m---> 81\u001b[0m     \u001b[38;5;28mself\u001b[39m\u001b[38;5;241m.\u001b[39mstream \u001b[38;5;241m=\u001b[39m \u001b[38;5;28;43mopen\u001b[39;49m\u001b[43m(\u001b[49m\u001b[43msource\u001b[49m\u001b[43m,\u001b[49m\u001b[43m \u001b[49m\u001b[38;5;124;43m\"\u001b[39;49m\u001b[38;5;124;43mr\u001b[39;49m\u001b[38;5;124;43m\"\u001b[39;49m\u001b[43m \u001b[49m\u001b[38;5;241;43m+\u001b[39;49m\u001b[43m \u001b[49m\u001b[43mmode\u001b[49m\u001b[43m)\u001b[49m\n\u001b[1;32m     82\u001b[0m \u001b[38;5;28;01melse\u001b[39;00m:\n\u001b[1;32m     83\u001b[0m     value \u001b[38;5;241m=\u001b[39m source\u001b[38;5;241m.\u001b[39mread(\u001b[38;5;241m0\u001b[39m)\n",
      "\u001b[0;31mFileNotFoundError\u001b[0m: [Errno 2] No such file or directory: 'Promoter_sequences.fasta'"
     ]
    }
   ],
   "source": [
    "from pyjaspar import jaspardb\n",
    "from Bio import motifs\n",
    "from Bio import SeqIO\n",
    "from Bio.Seq import Seq\n",
    "import csv\n",
    "\n",
    "# Fetch motifs from JASPAR\n",
    "def fetch_motifs_from_jaspar(tf_list, release=\"JASPAR2024\"):\n",
    "    jdb = jaspardb(release=release) # set the JASPAR object\n",
    "    motif_dict = {} # Create empty dict\n",
    "\n",
    "    # Iterate through transcription factors\n",
    "    for tf in tf_list:\n",
    "        motif_list = jdb.fetch_motifs_by_name(tf) \n",
    "        if motif_list:\n",
    "            jaspar_motif = motif_list[0] # Store 0 postion of motif_list to variable\n",
    "            motif_dict[tf] = jaspar_motif # Add to dict\n",
    "            print(f\"Fetched motif for {tf}: {jaspar_motif.matrix_id}\") # Print TF and TF id to confirm\n",
    "        else:\n",
    "            print(f\"No motif found for {tf}\") # Print this message when there is no motif information.\n",
    "\n",
    "    return motif_dict\n",
    "\n",
    "# Scan promoter regions using both orientations of motif on forward strand\n",
    "def scan_promoters_for_motifs(fasta_file, motif_dict, threshold=7.0):\n",
    "    results = []\n",
    "\n",
    "    # Parse the fasta file which contain promoter sequences\n",
    "    for record in SeqIO.parse(fasta_file, \"fasta\"):\n",
    "        gene_info = record.id # Extract the gene information\n",
    "        promoter_seq = str(record.seq) # Extract the sequences\n",
    "\n",
    "        # Extract the gene_name and gene_id from fasta file\n",
    "        if \"_\" in gene_info:\n",
    "            gene_name, gene_id = gene_info.split(\"_\", 1)\n",
    "        else:\n",
    "            gene_name, gene_id = gene_info, \"NA\"\n",
    "\n",
    "        # Iterate through motif_dict\n",
    "        for tf, motif in motif_dict.items():\n",
    "            motif_len = len(motif)\n",
    "\n",
    "            # Get both forward and reverse PSSMs\n",
    "            pssm = motif.pssm\n",
    "\n",
    "            # Search with forward PSSM\n",
    "            forward_matches = list(pssm.search(promoter_seq, threshold=threshold)) # Scan Promoter sequences with forward motif patterns\n",
    "            for pos, score in forward_matches: # Iterate through matches\n",
    "                start = pos \n",
    "                end = pos + motif_len\n",
    "                if start < 0 or end > len(promoter_seq):\n",
    "                    continue # Skip when start value is negative or end value is over the promoter sequence length.\n",
    "                results.append([gene_name, gene_id, tf, \"+\", start, end]) # Add matched data into empty list to write CSV file\n",
    "           \n",
    "    return results\n",
    "\n",
    "# Save results to CSV\n",
    "def write_results_to_csv(results, filename=\"motif_scan_results_threshold_3.0.csv\"): \n",
    "    with open(filename, \"w\", newline=\"\") as csvfile:\n",
    "        writer = csv.writer(csvfile)\n",
    "        writer.writerow([\n",
    "            \"Gene_Name\", \"Gene_ID\", \"TF\", \"Strand\", \"Start\", \"End\"\n",
    "        ]) # Write header row\n",
    "        writer.writerows(results) # Write the rows in CSV file\n",
    "    print(f\"Results written to {filename}\") # Print this message to confirm\n",
    "\n",
    "# Run functions\n",
    "if __name__ == \"__main__\":\n",
    "    tf_names = [\"IRF3\", \"IRF7\", \"IRF9\"] # Set the list to fetch multile transcription factors\n",
    "    fasta_file = \"Promoter_sequences.fasta\" # Sequence data to scan\n",
    "\n",
    "    motifs_dict = fetch_motifs_from_jaspar(tf_names) # Store function result in variable\n",
    "    scan_results = scan_promoters_for_motifs(fasta_file, motifs_dict, threshold=3.0) # Store function result in variable\n",
    "    write_results_to_csv(scan_results)"
   ]
  },
  {
   "cell_type": "code",
   "execution_count": null,
   "id": "9a487660",
   "metadata": {},
   "outputs": [],
   "source": []
  }
 ],
 "metadata": {
  "kernelspec": {
   "display_name": "Python 3",
   "language": "python",
   "name": "python3"
  },
  "language_info": {
   "codemirror_mode": {
    "name": "ipython",
    "version": 3
   },
   "file_extension": ".py",
   "mimetype": "text/x-python",
   "name": "python",
   "nbconvert_exporter": "python",
   "pygments_lexer": "ipython3",
   "version": "3.9.6"
  }
 },
 "nbformat": 4,
 "nbformat_minor": 5
}
